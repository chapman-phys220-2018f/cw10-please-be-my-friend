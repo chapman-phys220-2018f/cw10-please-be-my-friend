{
 "cells": [
  {
   "cell_type": "markdown",
   "metadata": {
    "collapsed": false
   },
   "source": [
    "# Let's Explore Some Differential Equations\n",
    "Morgan Holve\n",
    "\n",
    "2 November 2018"
   ]
  },
  {
   "cell_type": "markdown",
   "metadata": {
    "collapsed": false
   },
   "source": [
    "## Introduction\n",
    "This notebook serves as an exploration of five different methods in finding the solutions to differential equations. The five methods are: \n",
    "\n",
    "1. Euler's method, (accurate to the first order)\n",
    "2. Leapfrog (Midpoint) Method (accurate to 2nd-order)\n",
    "3. Heun's (Trapezoid) Method (accurate to 2nd-order)\n",
    "4. 2nd-order Runge-Kutta Method (accurate to 2nd-order)\n",
    "5. 4th-order Runge-Kutta Method (accurate to 4th-order)"
   ]
  },
  {
   "cell_type": "markdown",
   "metadata": {
    "collapsed": false
   },
   "source": [
    "### Euler's method\n",
    "Euler's method is as follows:\n",
    "\n",
    "$$u_{k+1} = u_k + \\Delta t\\, f[t_k, u_k]$$\n",
    "\n",
    "In this function, $f$ is defined as the slope between individual $u_k$ points where $k \\in N$. This slope, denoted $f_k = \\frac{u_k-u_{k-1}}{t_k-t_{k-1}}$ is taken over the interval $(t_0, t_1,...,t_k)$, where we can more precisely define $u_k = u(t_k)$. Finally, our intitial condition is given as $u_0 = u(t_0)$.\n",
    "\n",
    "Now that we've got all those definitions out of the way, we can now begin to understand what the function does. Essentially, it takes the slope between two points, then multiplies it by the difference in $t$-values. This scalar value is then added to $u_k$ to move it up to the point $u_{k+1}$ which corresponds with a $t_{k+1}$ value. Then, this process is continued for the next point $u_{k+2}$, applying the scalar adjustment to $u_{k+1}$. This process is continued until the end of the interval.\n"
   ]
  },
  {
   "cell_type": "markdown",
   "metadata": {
    "collapsed": false
   },
   "source": [
    "### Leapfrog (Midpoint) Method\n",
    "This method is defined as:\n",
    "\n",
    "$$u_{k+1} = u_{k-1} + 2\\Delta t\\, f[t_k, u_k]$$\n",
    "\n",
    "This is very similar to Euler's method, except for a couple differences. It still takes the slope between $u_k$ points, but this time around it multiples it by twice the difference in $t$ ($2\\Delta t$). Due to this, the adjustment in value is added to $u_{k-1}$ rather than $u_k$.\n",
    "\n",
    "This brings up the interesting point of how to calculate $u_1$. If we were to just take $k = 1$, we would be left with a $u_{-1}$ term, which unfortunately doesn't exist. So, we will have to use a different method to calculate this value, as we are given $u_0$ as an initial condition."
   ]
  },
  {
   "cell_type": "markdown",
   "metadata": {
    "collapsed": false
   },
   "source": [
    "### Heun's (Trapezoid) Method\n",
    "This method follows as:\n",
    "\n",
    "$$\\tilde{u}_{k+1} = u_k + \\Delta t\\, f[t_k, u_k]$$, \n",
    "\n",
    "$$u_{k+1} = u_k + (\\Delta t/2)(f[t_k, u_k] + f[t_{k+1}, \\tilde{u}_{k+1}])$$\n",
    "\n",
    "There are two different steps to this method. The first we have seen before, it is simply Euler's method. However, the second step allows for the method to be accurate to the second order by adding an extra correction. To me at least, this is highly reminisenct of the trapezoid technique for Riemann sums, which I'm going to assume is a good path to follow given the name of this method. \n",
    "\n",
    "Anyhow, the second step takes the Euler correction and then approximates the midpoint between it and the original point, adding an extra element of accuracy. This scalar is then added to the original $u_k$ value. Process repeats for the entire interval of $t_k$.\n"
   ]
  },
  {
   "cell_type": "markdown",
   "metadata": {
    "collapsed": false
   },
   "source": [
    "### 2nd-order Runge-Kutta Method\n",
    "This method is:\n",
    "\n",
    "$$u_{k+1} = u_k + K_2$$, \n",
    "\n",
    "   with\n",
    "   \n",
    "   $$K_1 = \\Delta t\\, f[t_k, u_k]$$, \n",
    "   \n",
    "   $$K_2 = \\Delta t\\, f[t_k + \\Delta t/2, u_k + K_1/2]$$\n",
    "\n",
    "This method is very similar to Heun's in the sense that both of them start with Euler's method and add extra layers of accuracy. In this case, $K_1$ is calculated using Euler's method. Then, this approximation is then used to calculate some $K_2$ value to be added to the original $u_k$.\n",
    "\n",
    "The two methods diverge in how the slope is taken. For this method, the slope *of the corrected points* is taken, rather than correcting the slopes of the original points. That is, the midpoint of the $t$-values is added to $t_k$ and the approximation $K_1$ is added to $u_k$. Then, the slope is taken This scalar is then finally added to the original $u_k$ value and repeated over the interval."
   ]
  },
  {
   "cell_type": "markdown",
   "metadata": {
    "collapsed": false
   },
   "source": [
    "### 4th-order Runge-Kutta Method\n",
    "Finally, the above method can be extended to the fourth order:\n",
    "\n",
    "  \n",
    "   $u_{k+1} = u_k + (K_1 + 2K_2 + 2K_3 + K_4)/6$, \n",
    "   \n",
    "   with\n",
    "   \n",
    "   $K_1 = \\Delta t\\,f[t_k,u_k]$, \n",
    "   \n",
    "   $K_2 = \\Delta t\\, f[t_k + \\Delta t/2, u_k + K_1/2]$, \n",
    "   \n",
    "   $K_3 = \\Delta t\\, f[t_k + \\Delta t/2, u_k + K_2/2]$, \n",
    "   \n",
    "   $K_4 = \\Delta t\\,f[t_k + \\Delta t, u_k + K_3]$  \n",
    "   \n",
    "The steps follow the same structure as the second order method. One thing I noticed is that the coefficients of the terms seem to follow the structure of polynomials that I actually don't know the name of. Not that it matters, I just found it cool.\n",
    "\n",
    "Then, the average of all these approximations is taken the n"
   ]
  },
  {
   "cell_type": "code",
   "execution_count": 0,
   "metadata": {
    "collapsed": false
   },
   "outputs": [
   ],
   "source": [
   ]
  }
 ],
 "metadata": {
  "kernelspec": {
   "display_name": "Python 3 (Anaconda 5)",
   "language": "python",
   "name": "anaconda5"
  },
  "language_info": {
   "codemirror_mode": {
    "name": "ipython",
    "version": 3
   },
   "file_extension": ".py",
   "mimetype": "text/x-python",
   "name": "python",
   "nbconvert_exporter": "python",
   "pygments_lexer": "ipython3",
   "version": "3.6.5"
  }
 },
 "nbformat": 4,
 "nbformat_minor": 0
}